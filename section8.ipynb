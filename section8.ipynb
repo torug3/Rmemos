{
 "cells": [
  {
   "cell_type": "code",
   "execution_count": 1,
   "metadata": {},
   "outputs": [],
   "source": [
    "# 8-67 グラフの書き方基礎"
   ]
  },
  {
   "cell_type": "code",
   "execution_count": 2,
   "metadata": {},
   "outputs": [],
   "source": [
    "import numpy as np\n",
    "import pandas as pd"
   ]
  },
  {
   "cell_type": "code",
   "execution_count": 3,
   "metadata": {},
   "outputs": [],
   "source": [
    "df = pd.read_excel(\"./Concentration.xlsx\")"
   ]
  },
  {
   "cell_type": "code",
   "execution_count": 4,
   "metadata": {},
   "outputs": [
    {
     "data": {
      "text/html": [
       "<div>\n",
       "<style scoped>\n",
       "    .dataframe tbody tr th:only-of-type {\n",
       "        vertical-align: middle;\n",
       "    }\n",
       "\n",
       "    .dataframe tbody tr th {\n",
       "        vertical-align: top;\n",
       "    }\n",
       "\n",
       "    .dataframe thead th {\n",
       "        text-align: right;\n",
       "    }\n",
       "</style>\n",
       "<table border=\"1\" class=\"dataframe\">\n",
       "  <thead>\n",
       "    <tr style=\"text-align: right;\">\n",
       "      <th></th>\n",
       "      <th>time[s]</th>\n",
       "      <th>C[mol/L]</th>\n",
       "    </tr>\n",
       "  </thead>\n",
       "  <tbody>\n",
       "    <tr>\n",
       "      <th>0</th>\n",
       "      <td>0</td>\n",
       "      <td>1.000000</td>\n",
       "    </tr>\n",
       "    <tr>\n",
       "      <th>1</th>\n",
       "      <td>1</td>\n",
       "      <td>0.904837</td>\n",
       "    </tr>\n",
       "    <tr>\n",
       "      <th>2</th>\n",
       "      <td>2</td>\n",
       "      <td>0.818731</td>\n",
       "    </tr>\n",
       "    <tr>\n",
       "      <th>3</th>\n",
       "      <td>3</td>\n",
       "      <td>0.740818</td>\n",
       "    </tr>\n",
       "    <tr>\n",
       "      <th>4</th>\n",
       "      <td>4</td>\n",
       "      <td>0.670320</td>\n",
       "    </tr>\n",
       "    <tr>\n",
       "      <th>5</th>\n",
       "      <td>5</td>\n",
       "      <td>0.606531</td>\n",
       "    </tr>\n",
       "    <tr>\n",
       "      <th>6</th>\n",
       "      <td>6</td>\n",
       "      <td>0.548812</td>\n",
       "    </tr>\n",
       "    <tr>\n",
       "      <th>7</th>\n",
       "      <td>7</td>\n",
       "      <td>0.496585</td>\n",
       "    </tr>\n",
       "    <tr>\n",
       "      <th>8</th>\n",
       "      <td>8</td>\n",
       "      <td>0.449329</td>\n",
       "    </tr>\n",
       "    <tr>\n",
       "      <th>9</th>\n",
       "      <td>9</td>\n",
       "      <td>0.406570</td>\n",
       "    </tr>\n",
       "    <tr>\n",
       "      <th>10</th>\n",
       "      <td>10</td>\n",
       "      <td>0.367879</td>\n",
       "    </tr>\n",
       "    <tr>\n",
       "      <th>11</th>\n",
       "      <td>11</td>\n",
       "      <td>0.332871</td>\n",
       "    </tr>\n",
       "    <tr>\n",
       "      <th>12</th>\n",
       "      <td>12</td>\n",
       "      <td>0.301194</td>\n",
       "    </tr>\n",
       "    <tr>\n",
       "      <th>13</th>\n",
       "      <td>13</td>\n",
       "      <td>0.272532</td>\n",
       "    </tr>\n",
       "    <tr>\n",
       "      <th>14</th>\n",
       "      <td>14</td>\n",
       "      <td>0.246597</td>\n",
       "    </tr>\n",
       "    <tr>\n",
       "      <th>15</th>\n",
       "      <td>15</td>\n",
       "      <td>0.223130</td>\n",
       "    </tr>\n",
       "  </tbody>\n",
       "</table>\n",
       "</div>"
      ],
      "text/plain": [
       "    time[s]  C[mol/L]\n",
       "0         0  1.000000\n",
       "1         1  0.904837\n",
       "2         2  0.818731\n",
       "3         3  0.740818\n",
       "4         4  0.670320\n",
       "5         5  0.606531\n",
       "6         6  0.548812\n",
       "7         7  0.496585\n",
       "8         8  0.449329\n",
       "9         9  0.406570\n",
       "10       10  0.367879\n",
       "11       11  0.332871\n",
       "12       12  0.301194\n",
       "13       13  0.272532\n",
       "14       14  0.246597\n",
       "15       15  0.223130"
      ]
     },
     "execution_count": 4,
     "metadata": {},
     "output_type": "execute_result"
    }
   ],
   "source": [
    "df"
   ]
  },
  {
   "cell_type": "code",
   "execution_count": 6,
   "metadata": {},
   "outputs": [],
   "source": [
    "import matplotlib.pyplot as plt"
   ]
  },
  {
   "cell_type": "code",
   "execution_count": 7,
   "metadata": {},
   "outputs": [],
   "source": [
    "%matplotlib inline"
   ]
  },
  {
   "cell_type": "code",
   "execution_count": 9,
   "metadata": {},
   "outputs": [
    {
     "data": {
      "text/plain": [
       "Text(0, 0.5, 'C[mol/L]')"
      ]
     },
     "execution_count": 9,
     "metadata": {},
     "output_type": "execute_result"
    },
    {
     "data": {
      "image/png": "[encoded data removed]",
      "text/plain": [
       "<Figure size 432x288 with 1 Axes>"
      ]
     },
     "metadata": {
      "needs_background": "light"
     },
     "output_type": "display_data"
    }
   ],
   "source": [
    "plt.scatter(df.index, df[\"C[mol/L]\"])\n",
    "plt.xlabel(\"time[s]\",fontsize=16)\n",
    "plt.ylabel(\"C[mol/L]\",fontsize=16)"
   ]
  },
  {
   "cell_type": "code",
   "execution_count": 10,
   "metadata": {},
   "outputs": [
    {
     "data": {
      "text/plain": [
       "[<matplotlib.lines.Line2D at 0x15c1bb6ed68>]"
      ]
     },
     "execution_count": 10,
     "metadata": {},
     "output_type": "execute_result"
    },
    {
     "data": {
      "image/png": "[encoded data removed]",
      "text/plain": [
       "<Figure size 432x288 with 1 Axes>"
      ]
     },
     "metadata": {
      "needs_background": "light"
     },
     "output_type": "display_data"
    }
   ],
   "source": [
    "plt.plot(df.index, df[\"C[mol/L]\"])"
   ]
  },
  {
   "cell_type": "code",
   "execution_count": 11,
   "metadata": {},
   "outputs": [
    {
     "data": {
      "text/plain": [
       "<BarContainer object of 16 artists>"
      ]
     },
     "execution_count": 11,
     "metadata": {},
     "output_type": "execute_result"
    },
    {
     "data": {
      "image/png": "[encoded data removed]",
      "text/plain": [
       "<Figure size 432x288 with 1 Axes>"
      ]
     },
     "metadata": {
      "needs_background": "light"
     },
     "output_type": "display_data"
    }
   ],
   "source": [
    "plt.bar(df.index, df[\"C[mol/L]\"])"
   ]
  },
  {
   "cell_type": "code",
   "execution_count": 12,
   "metadata": {},
   "outputs": [],
   "source": [
    "x = np.arange(0,15,0.01)\n",
    "y = np.exp(-0.1*x)"
   ]
  },
  {
   "cell_type": "code",
   "execution_count": 13,
   "metadata": {},
   "outputs": [
    {
     "data": {
      "text/plain": [
       "[<matplotlib.lines.Line2D at 0x15c1bc41a58>]"
      ]
     },
     "execution_count": 13,
     "metadata": {},
     "output_type": "execute_result"
    },
    {
     "data": {
      "image/png": "[encoded data removed]",
      "text/plain": [
       "<Figure size 432x288 with 1 Axes>"
      ]
     },
     "metadata": {
      "needs_background": "light"
     },
     "output_type": "display_data"
    }
   ],
   "source": [
    "plt.bar(df.index, df[\"C[mol/L]\"])\n",
    "plt.plot(x,y, color=\"red\")"
   ]
  },
  {
   "cell_type": "code",
   "execution_count": 14,
   "metadata": {},
   "outputs": [],
   "source": [
    "# 8-68 グラフ基礎２"
   ]
  },
  {
   "cell_type": "code",
   "execution_count": 15,
   "metadata": {},
   "outputs": [],
   "source": [
    "x = np.arange(-10,10,0.01)\n",
    "y= 1.0 / (1.0 + np.exp(-x))"
   ]
  },
  {
   "cell_type": "code",
   "execution_count": 16,
   "metadata": {},
   "outputs": [],
   "source": [
    "x2 = np.arange(-6,6,0.01)\n",
    "y2 = np.sin(x2)"
   ]
  },
  {
   "cell_type": "code",
   "execution_count": 19,
   "metadata": {},
   "outputs": [
    {
     "data": {
      "text/plain": [
       "[<matplotlib.lines.Line2D at 0x15c1ce226d8>]"
      ]
     },
     "execution_count": 19,
     "metadata": {},
     "output_type": "execute_result"
    },
    {
     "data": {
      "image/png": "[encoded data removed]",
      "text/plain": [
       "<Figure size 432x288 with 2 Axes>"
      ]
     },
     "metadata": {
      "needs_background": "light"
     },
     "output_type": "display_data"
    }
   ],
   "source": [
    "plt.subplot(2,1,1)\n",
    "plt.plot(x,y)\n",
    "plt.subplot(2,1,2)\n",
    "plt.plot(x2,y2)"
   ]
  },
  {
   "cell_type": "code",
   "execution_count": 20,
   "metadata": {},
   "outputs": [
    {
     "data": {
      "text/plain": [
       "[<matplotlib.lines.Line2D at 0x15c1ced6780>]"
      ]
     },
     "execution_count": 20,
     "metadata": {},
     "output_type": "execute_result"
    },
    {
     "data": {
      "image/png": "[encoded data removed]",
      "text/plain": [
       "<Figure size 432x288 with 2 Axes>"
      ]
     },
     "metadata": {
      "needs_background": "light"
     },
     "output_type": "display_data"
    }
   ],
   "source": [
    "plt.subplot(2,2,1)\n",
    "plt.plot(x,y)\n",
    "plt.subplot(2,2,2)\n",
    "plt.plot(x2,y2)"
   ]
  },
  {
   "cell_type": "code",
   "execution_count": 21,
   "metadata": {},
   "outputs": [],
   "source": [
    "# 8-69 3次元プロット"
   ]
  },
  {
   "cell_type": "code",
   "execution_count": 33,
   "metadata": {},
   "outputs": [],
   "source": [
    "import numpy as np\n",
    "import matplotlib.pyplot as plt\n",
    "from mpl_toolkits.mplot3d import Axes3D"
   ]
  },
  {
   "cell_type": "code",
   "execution_count": 27,
   "metadata": {},
   "outputs": [],
   "source": [
    "a = np.arange(10)"
   ]
  },
  {
   "cell_type": "code",
   "execution_count": 28,
   "metadata": {},
   "outputs": [
    {
     "data": {
      "text/plain": [
       "array([0, 1, 2, 3, 4, 5, 6, 7, 8, 9])"
      ]
     },
     "execution_count": 28,
     "metadata": {},
     "output_type": "execute_result"
    }
   ],
   "source": [
    "a"
   ]
  },
  {
   "cell_type": "code",
   "execution_count": 30,
   "metadata": {},
   "outputs": [
    {
     "data": {
      "text/plain": [
       "array([ 0,  1,  3,  6, 10, 15, 21, 28, 36, 45], dtype=int32)"
      ]
     },
     "execution_count": 30,
     "metadata": {},
     "output_type": "execute_result"
    }
   ],
   "source": [
    "a.cumsum()#累積和"
   ]
  },
  {
   "cell_type": "code",
   "execution_count": 31,
   "metadata": {},
   "outputs": [],
   "source": [
    "x = np.random.randn(100).cumsum()\n",
    "y = np.random.randn(100).cumsum()\n",
    "z = np.random.randn(100).cumsum()"
   ]
  },
  {
   "cell_type": "code",
   "execution_count": 34,
   "metadata": {},
   "outputs": [
    {
     "data": {
      "application/javascript": [
       "/* Put everything inside the global mpl namespace */\n",
       "window.mpl = {};\n",
       "\n",
       "\n",
       "mpl.get_websocket_type = function() {\n",
       "    if (typeof(WebSocket) !== 'undefined') {\n",
       "        return WebSocket;\n",
       "    } else if (typeof(MozWebSocket) !== 'undefined') {\n",
       "        return MozWebSocket;\n",
       "    } else {\n",
       "        alert('Your browser does not have WebSocket support. ' +\n",
       "              'Please try Chrome, Safari or Firefox ≥ 6. ' +\n",
       "              'Firefox 4 and 5 are also supported but you ' +\n",
       "              'have to enable WebSockets in about:config.');\n",
       "    };\n",
       "}\n",
       "\n",
       "mpl.figure = function(figure_id, websocket, ondownload, parent_element) {\n",
       "    this.id = figure_id;\n",
       "\n",
       "    this.ws = websocket;\n",
       "\n",
       "    this.supports_binary = (this.ws.binaryType != undefined);\n",
       "\n",
       "    if (!this.supports_binary) {\n",
       "        var warnings = document.getElementById(\"mpl-warnings\");\n",
       "        if (warnings) {\n",
       "            warnings.style.display = 'block';\n",
       "            warnings.textContent = (\n",
       "                \"This browser does not support binary websocket messages. \" +\n",
       "                    \"Performance may be slow.\");\n",
       "        }\n",
       "    }\n",
       "\n",
       "    this.imageObj = new Image();\n",
       "\n",
       "    this.context = undefined;\n",
       "    this.message = undefined;\n",
       "    this.canvas = undefined;\n",
       "    this.rubberband_canvas = undefined;\n",
       "    this.rubberband_context = undefined;\n",
       "    this.format_dropdown = undefined;\n",
       "\n",
       "    this.image_mode = 'full';\n",
       "\n",
       "    this.root = $('<div/>');\n",
       "    this._root_extra_style(this.root)\n",
       "    this.root.attr('style', 'display: inline-block');\n",
       "\n",
       "    $(parent_element).append(this.root);\n",
       "\n",
       "    this._init_header(this);\n",
       "    this._init_canvas(this);\n",
       "    this._init_toolbar(this);\n",
       "\n",
       "    var fig = this;\n",
       "\n",
       "    this.waiting = false;\n",
       "\n",
       "    this.ws.onopen =  function () {\n",
       "            fig.send_message(\"supports_binary\", {value: fig.supports_binary});\n",
       "            fig.send_message(\"send_image_mode\", {});\n",
       "            if (mpl.ratio != 1) {\n",
       "                fig.send_message(\"set_dpi_ratio\", {'dpi_ratio': mpl.ratio});\n",
       "            }\n",
       "            fig.send_message(\"refresh\", {});\n",
       "        }\n",
       "\n",
       "    this.imageObj.onload = function() {\n",
       "            if (fig.image_mode == 'full') {\n",
       "                // Full images could contain transparency (where diff images\n",
       "                // almost always do), so we need to clear the canvas so that\n",
       "                // there is no ghosting.\n",
       "                fig.context.clearRect(0, 0, fig.canvas.width, fig.canvas.height);\n",
       "            }\n",
       "            fig.context.drawImage(fig.imageObj, 0, 0);\n",
       "        };\n",
       "\n",
       "    this.imageObj.onunload = function() {\n",
       "        fig.ws.close();\n",
       "    }\n",
       "\n",
       "    this.ws.onmessage = this._make_on_message_function(this);\n",
       "\n",
       "    this.ondownload = ondownload;\n",
       "}\n",
       "\n",
       "mpl.figure.prototype._init_header = function() {\n",
       "    var titlebar = $(\n",
       "        '<div class=\"ui-dialog-titlebar ui-widget-header ui-corner-all ' +\n",
       "        'ui-helper-clearfix\"/>');\n",
       "    var titletext = $(\n",
       "        '<div class=\"ui-dialog-title\" style=\"width: 100%; ' +\n",
       "        'text-align: center; padding: 3px;\"/>');\n",
       "    titlebar.append(titletext)\n",
       "    this.root.append(titlebar);\n",
       "    this.header = titletext[0];\n",
       "}\n",
       "\n",
       "\n",
       "\n",
       "mpl.figure.prototype._canvas_extra_style = function(canvas_div) {\n",
       "\n",
       "}\n",
       "\n",
       "\n",
       "mpl.figure.prototype._root_extra_style = function(canvas_div) {\n",
       "\n",
       "}\n",
       "\n",
       "mpl.figure.prototype._init_canvas = function() {\n",
       "    var fig = this;\n",
       "\n",
       "    var canvas_div = $('<div/>');\n",
       "\n",
       "    canvas_div.attr('style', 'position: relative; clear: both; outline: 0');\n",
       "\n",
       "    function canvas_keyboard_event(event) {\n",
       "        return fig.key_event(event, event['data']);\n",
       "    }\n",
       "\n",
       "    canvas_div.keydown('key_press', canvas_keyboard_event);\n",
       "    canvas_div.keyup('key_release', canvas_keyboard_event);\n",
       "    this.canvas_div = canvas_div\n",
       "    this._canvas_extra_style(canvas_div)\n",
       "    this.root.append(canvas_div);\n",
       "\n",
       "    var canvas = $('<canvas/>');\n",
       "    canvas.addClass('mpl-canvas');\n",
       "    canvas.attr('style', \"left: 0; top: 0; z-index: 0; outline: 0\")\n",
       "\n",
       "    this.canvas = canvas[0];\n",
       "    this.context = canvas[0].getContext(\"2d\");\n",
       "\n",
       "    var backingStore = this.context.backingStorePixelRatio ||\n",
       "\tthis.context.webkitBackingStorePixelRatio ||\n",
       "\tthis.context.mozBackingStorePixelRatio ||\n",
       "\tthis.context.msBackingStorePixelRatio ||\n",
       "\tthis.context.oBackingStorePixelRatio ||\n",
       "\tthis.context.backingStorePixelRatio || 1;\n",
       "\n",
       "    mpl.ratio = (window.devicePixelRatio || 1) / backingStore;\n",
       "\n",
       "    var rubberband = $('<canvas/>');\n",
       "    rubberband.attr('style', \"position: absolute; left: 0; top: 0; z-index: 1;\")\n",
       "\n",
       "    var pass_mouse_events = true;\n",
       "\n",
       "    canvas_div.resizable({\n",
       "        start: function(event, ui) {\n",
       "            pass_mouse_events = false;\n",
       "        },\n",
       "        resize: function(event, ui) {\n",
       "            fig.request_resize(ui.size.width, ui.size.height);\n",
       "        },\n",
       "        stop: function(event, ui) {\n",
       "            pass_mouse_events = true;\n",
       "            fig.request_resize(ui.size.width, ui.size.height);\n",
       "        },\n",
       "    });\n",
       "\n",
       "    function mouse_event_fn(event) {\n",
       "        if (pass_mouse_events)\n",
       "            return fig.mouse_event(event, event['data']);\n",
       "    }\n",
       "\n",
       "    rubberband.mousedown('button_press', mouse_event_fn);\n",
       "    rubberband.mouseup('button_release', mouse_event_fn);\n",
       "    // Throttle sequential mouse events to 1 every 20ms.\n",
       "    rubberband.mousemove('motion_notify', mouse_event_fn);\n",
       "\n",
       "    rubberband.mouseenter('figure_enter', mouse_event_fn);\n",
       "    rubberband.mouseleave('figure_leave', mouse_event_fn);\n",
       "\n",
       "    canvas_div.on(\"wheel\", function (event) {\n",
       "        event = event.originalEvent;\n",
       "        event['data'] = 'scroll'\n",
       "        if (event.deltaY < 0) {\n",
       "            event.step = 1;\n",
       "        } else {\n",
       "            event.step = -1;\n",
       "        }\n",
       "        mouse_event_fn(event);\n",
       "    });\n",
       "\n",
       "    canvas_div.append(canvas);\n",
       "    canvas_div.append(rubberband);\n",
       "\n",
       "    this.rubberband = rubberband;\n",
       "    this.rubberband_canvas = rubberband[0];\n",
       "    this.rubberband_context = rubberband[0].getContext(\"2d\");\n",
       "    this.rubberband_context.strokeStyle = \"#000000\";\n",
       "\n",
       "    this._resize_canvas = function(width, height) {\n",
       "        // Keep the size of the canvas, canvas container, and rubber band\n",
       "        // canvas in synch.\n",
       "        canvas_div.css('width', width)\n",
       "        canvas_div.css('height', height)\n",
       "\n",
       "        canvas.attr('width', width * mpl.ratio);\n",
       "        canvas.attr('height', height * mpl.ratio);\n",
       "        canvas.attr('style', 'width: ' + width + 'px; height: ' + height + 'px;');\n",
       "\n",
       "        rubberband.attr('width', width);\n",
       "        rubberband.attr('height', height);\n",
       "    }\n",
       "\n",
       "    // Set the figure to an initial 600x600px, this will subsequently be updated\n",
       "    // upon first draw.\n",
       "    this._resize_canvas(600, 600);\n",
       "\n",
       "    // Disable right mouse context menu.\n",
       "    $(this.rubberband_canvas).bind(\"contextmenu\",function(e){\n",
       "        return false;\n",
       "    });\n",
       "\n",
       "    function set_focus () {\n",
       "        canvas.focus();\n",
       "        canvas_div.focus();\n",
       "    }\n",
       "\n",
       "    window.setTimeout(set_focus, 100);\n",
       "}\n",
       "\n",
       "mpl.figure.prototype._init_toolbar = function() {\n",
       "    var fig = this;\n",
       "\n",
       "    var nav_element = $('<div/>');\n",
       "    nav_element.attr('style', 'width: 100%');\n",
       "    this.root.append(nav_element);\n",
       "\n",
       "    // Define a callback function for later on.\n",
       "    function toolbar_event(event) {\n",
       "        return fig.toolbar_button_onclick(event['data']);\n",
       "    }\n",
       "    function toolbar_mouse_event(event) {\n",
       "        return fig.toolbar_button_onmouseover(event['data']);\n",
       "    }\n",
       "\n",
       "    for(var toolbar_ind in mpl.toolbar_items) {\n",
       "        var name = mpl.toolbar_items[toolbar_ind][0];\n",
       "        var tooltip = mpl.toolbar_items[toolbar_ind][1];\n",
       "        var image = mpl.toolbar_items[toolbar_ind][2];\n",
       "        var method_name = mpl.toolbar_items[toolbar_ind][3];\n",
       "\n",
       "        if (!name) {\n",
       "            // put a spacer in here.\n",
       "            continue;\n",
       "        }\n",
       "        var button = $('<button/>');\n",
       "        button.addClass('ui-button ui-widget ui-state-default ui-corner-all ' +\n",
       "                        'ui-button-icon-only');\n",
       "        button.attr('role', 'button');\n",
       "        button.attr('aria-disabled', 'false');\n",
       "        button.click(method_name, toolbar_event);\n",
       "        button.mouseover(tooltip, toolbar_mouse_event);\n",
       "\n",
       "        var icon_img = $('<span/>');\n",
       "        icon_img.addClass('ui-button-icon-primary ui-icon');\n",
       "        icon_img.addClass(image);\n",
       "        icon_img.addClass('ui-corner-all');\n",
       "\n",
       "        var tooltip_span = $('<span/>');\n",
       "        tooltip_span.addClass('ui-button-text');\n",
       "        tooltip_span.html(tooltip);\n",
       "\n",
       "        button.append(icon_img);\n",
       "        button.append(tooltip_span);\n",
       "\n",
       "        nav_element.append(button);\n",
       "    }\n",
       "\n",
       "    var fmt_picker_span = $('<span/>');\n",
       "\n",
       "    var fmt_picker = $('<select/>');\n",
       "    fmt_picker.addClass('mpl-toolbar-option ui-widget ui-widget-content');\n",
       "    fmt_picker_span.append(fmt_picker);\n",
       "    nav_element.append(fmt_picker_span);\n",
       "    this.format_dropdown = fmt_picker[0];\n",
       "\n",
       "    for (var ind in mpl.extensions) {\n",
       "        var fmt = mpl.extensions[ind];\n",
       "        var option = $(\n",
       "            '<option/>', {selected: fmt === mpl.default_extension}).html(fmt);\n",
       "        fmt_picker.append(option);\n",
       "    }\n",
       "\n",
       "    // Add hover states to the ui-buttons\n",
       "    $( \".ui-button\" ).hover(\n",
       "        function() { $(this).addClass(\"ui-state-hover\");},\n",
       "        function() { $(this).removeClass(\"ui-state-hover\");}\n",
       "    );\n",
       "\n",
       "    var status_bar = $('<span class=\"mpl-message\"/>');\n",
       "    nav_element.append(status_bar);\n",
       "    this.message = status_bar[0];\n",
       "}\n",
       "\n",
       "mpl.figure.prototype.request_resize = function(x_pixels, y_pixels) {\n",
       "    // Request matplotlib to resize the figure. Matplotlib will then trigger a resize in the client,\n",
       "    // which will in turn request a refresh of the image.\n",
       "    this.send_message('resize', {'width': x_pixels, 'height': y_pixels});\n",
       "}\n",
       "\n",
       "mpl.figure.prototype.send_message = function(type, properties) {\n",
       "    properties['type'] = type;\n",
       "    properties['figure_id'] = this.id;\n",
       "    this.ws.send(JSON.stringify(properties));\n",
       "}\n",
       "\n",
       "mpl.figure.prototype.send_draw_message = function() {\n",
       "    if (!this.waiting) {\n",
       "        this.waiting = true;\n",
       "        this.ws.send(JSON.stringify({type: \"draw\", figure_id: this.id}));\n",
       "    }\n",
       "}\n",
       "\n",
       "\n",
       "mpl.figure.prototype.handle_save = function(fig, msg) {\n",
       "    var format_dropdown = fig.format_dropdown;\n",
       "    var format = format_dropdown.options[format_dropdown.selectedIndex].value;\n",
       "    fig.ondownload(fig, format);\n",
       "}\n",
       "\n",
       "\n",
       "mpl.figure.prototype.handle_resize = function(fig, msg) {\n",
       "    var size = msg['size'];\n",
       "    if (size[0] != fig.canvas.width || size[1] != fig.canvas.height) {\n",
       "        fig._resize_canvas(size[0], size[1]);\n",
       "        fig.send_message(\"refresh\", {});\n",
       "    };\n",
       "}\n",
       "\n",
       "mpl.figure.prototype.handle_rubberband = function(fig, msg) {\n",
       "    var x0 = msg['x0'] / mpl.ratio;\n",
       "    var y0 = (fig.canvas.height - msg['y0']) / mpl.ratio;\n",
       "    var x1 = msg['x1'] / mpl.ratio;\n",
       "    var y1 = (fig.canvas.height - msg['y1']) / mpl.ratio;\n",
       "    x0 = Math.floor(x0) + 0.5;\n",
       "    y0 = Math.floor(y0) + 0.5;\n",
       "    x1 = Math.floor(x1) + 0.5;\n",
       "    y1 = Math.floor(y1) + 0.5;\n",
       "    var min_x = Math.min(x0, x1);\n",
       "    var min_y = Math.min(y0, y1);\n",
       "    var width = Math.abs(x1 - x0);\n",
       "    var height = Math.abs(y1 - y0);\n",
       "\n",
       "    fig.rubberband_context.clearRect(\n",
       "        0, 0, fig.canvas.width, fig.canvas.height);\n",
       "\n",
       "    fig.rubberband_context.strokeRect(min_x, min_y, width, height);\n",
       "}\n",
       "\n",
       "mpl.figure.prototype.handle_figure_label = function(fig, msg) {\n",
       "    // Updates the figure title.\n",
       "    fig.header.textContent = msg['label'];\n",
       "}\n",
       "\n",
       "mpl.figure.prototype.handle_cursor = function(fig, msg) {\n",
       "    var cursor = msg['cursor'];\n",
       "    switch(cursor)\n",
       "    {\n",
       "    case 0:\n",
       "        cursor = 'pointer';\n",
       "        break;\n",
       "    case 1:\n",
       "        cursor = 'default';\n",
       "        break;\n",
       "    case 2:\n",
       "        cursor = 'crosshair';\n",
       "        break;\n",
       "    case 3:\n",
       "        cursor = 'move';\n",
       "        break;\n",
       "    }\n",
       "    fig.rubberband_canvas.style.cursor = cursor;\n",
       "}\n",
       "\n",
       "mpl.figure.prototype.handle_message = function(fig, msg) {\n",
       "    fig.message.textContent = msg['message'];\n",
       "}\n",
       "\n",
       "mpl.figure.prototype.handle_draw = function(fig, msg) {\n",
       "    // Request the server to send over a new figure.\n",
       "    fig.send_draw_message();\n",
       "}\n",
       "\n",
       "mpl.figure.prototype.handle_image_mode = function(fig, msg) {\n",
       "    fig.image_mode = msg['mode'];\n",
       "}\n",
       "\n",
       "mpl.figure.prototype.updated_canvas_event = function() {\n",
       "    // Called whenever the canvas gets updated.\n",
       "    this.send_message(\"ack\", {});\n",
       "}\n",
       "\n",
       "// A function to construct a web socket function for onmessage handling.\n",
       "// Called in the figure constructor.\n",
       "mpl.figure.prototype._make_on_message_function = function(fig) {\n",
       "    return function socket_on_message(evt) {\n",
       "        if (evt.data instanceof Blob) {\n",
       "            /* FIXME: We get \"Resource interpreted as Image but\n",
       "             * transferred with MIME type text/plain:\" errors on\n",
       "             * Chrome.  But how to set the MIME type?  It doesn't seem\n",
       "             * to be part of the websocket stream */\n",
       "            evt.data.type = \"image/png\";\n",
       "\n",
       "            /* Free the memory for the previous frames */\n",
       "            if (fig.imageObj.src) {\n",
       "                (window.URL || window.webkitURL).revokeObjectURL(\n",
       "                    fig.imageObj.src);\n",
       "            }\n",
       "\n",
       "            fig.imageObj.src = (window.URL || window.webkitURL).createObjectURL(\n",
       "                evt.data);\n",
       "            fig.updated_canvas_event();\n",
       "            fig.waiting = false;\n",
       "            return;\n",
       "        }\n",
       "        else if (typeof evt.data === 'string' && evt.data.slice(0, 21) == \"data:image/png;base64\") {\n",
       "            fig.imageObj.src = evt.data;\n",
       "            fig.updated_canvas_event();\n",
       "            fig.waiting = false;\n",
       "            return;\n",
       "        }\n",
       "\n",
       "        var msg = JSON.parse(evt.data);\n",
       "        var msg_type = msg['type'];\n",
       "\n",
       "        // Call the  \"handle_{type}\" callback, which takes\n",
       "        // the figure and JSON message as its only arguments.\n",
       "        try {\n",
       "            var callback = fig[\"handle_\" + msg_type];\n",
       "        } catch (e) {\n",
       "            console.log(\"No handler for the '\" + msg_type + \"' message type: \", msg);\n",
       "            return;\n",
       "        }\n",
       "\n",
       "        if (callback) {\n",
       "            try {\n",
       "                // console.log(\"Handling '\" + msg_type + \"' message: \", msg);\n",
       "                callback(fig, msg);\n",
       "            } catch (e) {\n",
       "                console.log(\"Exception inside the 'handler_\" + msg_type + \"' callback:\", e, e.stack, msg);\n",
       "            }\n",
       "        }\n",
       "    };\n",
       "}\n",
       "\n",
       "// from http://stackoverflow.com/questions/1114465/getting-mouse-location-in-canvas\n",
       "mpl.findpos = function(e) {\n",
       "    //this section is from http://www.quirksmode.org/js/events_properties.html\n",
       "    var targ;\n",
       "    if (!e)\n",
       "        e = window.event;\n",
       "    if (e.target)\n",
       "        targ = e.target;\n",
       "    else if (e.srcElement)\n",
       "        targ = e.srcElement;\n",
       "    if (targ.nodeType == 3) // defeat Safari bug\n",
       "        targ = targ.parentNode;\n",
       "\n",
       "    // jQuery normalizes the pageX and pageY\n",
       "    // pageX,Y are the mouse positions relative to the document\n",
       "    // offset() returns the position of the element relative to the document\n",
       "    var x = e.pageX - $(targ).offset().left;\n",
       "    var y = e.pageY - $(targ).offset().top;\n",
       "\n",
       "    return {\"x\": x, \"y\": y};\n",
       "};\n",
       "\n",
       "/*\n",
       " * return a copy of an object with only non-object keys\n",
       " * we need this to avoid circular references\n",
       " * http://stackoverflow.com/a/24161582/3208463\n",
       " */\n",
       "function simpleKeys (original) {\n",
       "  return Object.keys(original).reduce(function (obj, key) {\n",
       "    if (typeof original[key] !== 'object')\n",
       "        obj[key] = original[key]\n",
       "    return obj;\n",
       "  }, {});\n",
       "}\n",
       "\n",
       "mpl.figure.prototype.mouse_event = function(event, name) {\n",
       "    var canvas_pos = mpl.findpos(event)\n",
       "\n",
       "    if (name === 'button_press')\n",
       "    {\n",
       "        this.canvas.focus();\n",
       "        this.canvas_div.focus();\n",
       "    }\n",
       "\n",
       "    var x = canvas_pos.x * mpl.ratio;\n",
       "    var y = canvas_pos.y * mpl.ratio;\n",
       "\n",
       "    this.send_message(name, {x: x, y: y, button: event.button,\n",
       "                             step: event.step,\n",
       "                             guiEvent: simpleKeys(event)});\n",
       "\n",
       "    /* This prevents the web browser from automatically changing to\n",
       "     * the text insertion cursor when the button is pressed.  We want\n",
       "     * to control all of the cursor setting manually through the\n",
       "     * 'cursor' event from matplotlib */\n",
       "    event.preventDefault();\n",
       "    return false;\n",
       "}\n",
       "\n",
       "mpl.figure.prototype._key_event_extra = function(event, name) {\n",
       "    // Handle any extra behaviour associated with a key event\n",
       "}\n",
       "\n",
       "mpl.figure.prototype.key_event = function(event, name) {\n",
       "\n",
       "    // Prevent repeat events\n",
       "    if (name == 'key_press')\n",
       "    {\n",
       "        if (event.which === this._key)\n",
       "            return;\n",
       "        else\n",
       "            this._key = event.which;\n",
       "    }\n",
       "    if (name == 'key_release')\n",
       "        this._key = null;\n",
       "\n",
       "    var value = '';\n",
       "    if (event.ctrlKey && event.which != 17)\n",
       "        value += \"ctrl+\";\n",
       "    if (event.altKey && event.which != 18)\n",
       "        value += \"alt+\";\n",
       "    if (event.shiftKey && event.which != 16)\n",
       "        value += \"shift+\";\n",
       "\n",
       "    value += 'k';\n",
       "    value += event.which.toString();\n",
       "\n",
       "    this._key_event_extra(event, name);\n",
       "\n",
       "    this.send_message(name, {key: value,\n",
       "                             guiEvent: simpleKeys(event)});\n",
       "    return false;\n",
       "}\n",
       "\n",
       "mpl.figure.prototype.toolbar_button_onclick = function(name) {\n",
       "    if (name == 'download') {\n",
       "        this.handle_save(this, null);\n",
       "    } else {\n",
       "        this.send_message(\"toolbar_button\", {name: name});\n",
       "    }\n",
       "};\n",
       "\n",
       "mpl.figure.prototype.toolbar_button_onmouseover = function(tooltip) {\n",
       "    this.message.textContent = tooltip;\n",
       "};\n",
       "mpl.toolbar_items = [[\"Home\", \"Reset original view\", \"fa fa-home icon-home\", \"home\"], [\"Back\", \"Back to previous view\", \"fa fa-arrow-left icon-arrow-left\", \"back\"], [\"Forward\", \"Forward to next view\", \"fa fa-arrow-right icon-arrow-right\", \"forward\"], [\"\", \"\", \"\", \"\"], [\"Pan\", \"Pan axes with left mouse, zoom with right\", \"fa fa-arrows icon-move\", \"pan\"], [\"Zoom\", \"Zoom to rectangle\", \"fa fa-square-o icon-check-empty\", \"zoom\"], [\"\", \"\", \"\", \"\"], [\"Download\", \"Download plot\", \"fa fa-floppy-o icon-save\", \"download\"]];\n",
       "\n",
       "mpl.extensions = [\"eps\", \"jpeg\", \"pdf\", \"png\", \"ps\", \"raw\", \"svg\", \"tif\"];\n",
       "\n",
       "mpl.default_extension = \"png\";var comm_websocket_adapter = function(comm) {\n",
       "    // Create a \"websocket\"-like object which calls the given IPython comm\n",
       "    // object with the appropriate methods. Currently this is a non binary\n",
       "    // socket, so there is still some room for performance tuning.\n",
       "    var ws = {};\n",
       "\n",
       "    ws.close = function() {\n",
       "        comm.close()\n",
       "    };\n",
       "    ws.send = function(m) {\n",
       "        //console.log('sending', m);\n",
       "        comm.send(m);\n",
       "    };\n",
       "    // Register the callback with on_msg.\n",
       "    comm.on_msg(function(msg) {\n",
       "        //console.log('receiving', msg['content']['data'], msg);\n",
       "        // Pass the mpl event to the overridden (by mpl) onmessage function.\n",
       "        ws.onmessage(msg['content']['data'])\n",
       "    });\n",
       "    return ws;\n",
       "}\n",
       "\n",
       "mpl.mpl_figure_comm = function(comm, msg) {\n",
       "    // This is the function which gets called when the mpl process\n",
       "    // starts-up an IPython Comm through the \"matplotlib\" channel.\n",
       "\n",
       "    var id = msg.content.data.id;\n",
       "    // Get hold of the div created by the display call when the Comm\n",
       "    // socket was opened in Python.\n",
       "    var element = $(\"#\" + id);\n",
       "    var ws_proxy = comm_websocket_adapter(comm)\n",
       "\n",
       "    function ondownload(figure, format) {\n",
       "        window.open(figure.imageObj.src);\n",
       "    }\n",
       "\n",
       "    var fig = new mpl.figure(id, ws_proxy,\n",
       "                           ondownload,\n",
       "                           element.get(0));\n",
       "\n",
       "    // Call onopen now - mpl needs it, as it is assuming we've passed it a real\n",
       "    // web socket which is closed, not our websocket->open comm proxy.\n",
       "    ws_proxy.onopen();\n",
       "\n",
       "    fig.parent_element = element.get(0);\n",
       "    fig.cell_info = mpl.find_output_cell(\"<div id='\" + id + \"'></div>\");\n",
       "    if (!fig.cell_info) {\n",
       "        console.error(\"Failed to find cell for figure\", id, fig);\n",
       "        return;\n",
       "    }\n",
       "\n",
       "    var output_index = fig.cell_info[2]\n",
       "    var cell = fig.cell_info[0];\n",
       "\n",
       "};\n",
       "\n",
       "mpl.figure.prototype.handle_close = function(fig, msg) {\n",
       "    var width = fig.canvas.width/mpl.ratio\n",
       "    fig.root.unbind('remove')\n",
       "\n",
       "    // Update the output cell to use the data from the current canvas.\n",
       "    fig.push_to_output();\n",
       "    var dataURL = fig.canvas.toDataURL();\n",
       "    // Re-enable the keyboard manager in IPython - without this line, in FF,\n",
       "    // the notebook keyboard shortcuts fail.\n",
       "    IPython.keyboard_manager.enable()\n",
       "    $(fig.parent_element).html('<img src=\"' + dataURL + '\" width=\"' + width + '\">');\n",
       "    fig.close_ws(fig, msg);\n",
       "}\n",
       "\n",
       "mpl.figure.prototype.close_ws = function(fig, msg){\n",
       "    fig.send_message('closing', msg);\n",
       "    // fig.ws.close()\n",
       "}\n",
       "\n",
       "mpl.figure.prototype.push_to_output = function(remove_interactive) {\n",
       "    // Turn the data on the canvas into data in the output cell.\n",
       "    var width = this.canvas.width/mpl.ratio\n",
       "    var dataURL = this.canvas.toDataURL();\n",
       "    this.cell_info[1]['text/html'] = '<img src=\"' + dataURL + '\" width=\"' + width + '\">';\n",
       "}\n",
       "\n",
       "mpl.figure.prototype.updated_canvas_event = function() {\n",
       "    // Tell IPython that the notebook contents must change.\n",
       "    IPython.notebook.set_dirty(true);\n",
       "    this.send_message(\"ack\", {});\n",
       "    var fig = this;\n",
       "    // Wait a second, then push the new image to the DOM so\n",
       "    // that it is saved nicely (might be nice to debounce this).\n",
       "    setTimeout(function () { fig.push_to_output() }, 1000);\n",
       "}\n",
       "\n",
       "mpl.figure.prototype._init_toolbar = function() {\n",
       "    var fig = this;\n",
       "\n",
       "    var nav_element = $('<div/>');\n",
       "    nav_element.attr('style', 'width: 100%');\n",
       "    this.root.append(nav_element);\n",
       "\n",
       "    // Define a callback function for later on.\n",
       "    function toolbar_event(event) {\n",
       "        return fig.toolbar_button_onclick(event['data']);\n",
       "    }\n",
       "    function toolbar_mouse_event(event) {\n",
       "        return fig.toolbar_button_onmouseover(event['data']);\n",
       "    }\n",
       "\n",
       "    for(var toolbar_ind in mpl.toolbar_items){\n",
       "        var name = mpl.toolbar_items[toolbar_ind][0];\n",
       "        var tooltip = mpl.toolbar_items[toolbar_ind][1];\n",
       "        var image = mpl.toolbar_items[toolbar_ind][2];\n",
       "        var method_name = mpl.toolbar_items[toolbar_ind][3];\n",
       "\n",
       "        if (!name) { continue; };\n",
       "\n",
       "        var button = $('<button class=\"btn btn-default\" href=\"#\" title=\"' + name + '\"><i class=\"fa ' + image + ' fa-lg\"></i></button>');\n",
       "        button.click(method_name, toolbar_event);\n",
       "        button.mouseover(tooltip, toolbar_mouse_event);\n",
       "        nav_element.append(button);\n",
       "    }\n",
       "\n",
       "    // Add the status bar.\n",
       "    var status_bar = $('<span class=\"mpl-message\" style=\"text-align:right; float: right;\"/>');\n",
       "    nav_element.append(status_bar);\n",
       "    this.message = status_bar[0];\n",
       "\n",
       "    // Add the close button to the window.\n",
       "    var buttongrp = $('<div class=\"btn-group inline pull-right\"></div>');\n",
       "    var button = $('<button class=\"btn btn-mini btn-primary\" href=\"#\" title=\"Stop Interaction\"><i class=\"fa fa-power-off icon-remove icon-large\"></i></button>');\n",
       "    button.click(function (evt) { fig.handle_close(fig, {}); } );\n",
       "    button.mouseover('Stop Interaction', toolbar_mouse_event);\n",
       "    buttongrp.append(button);\n",
       "    var titlebar = this.root.find($('.ui-dialog-titlebar'));\n",
       "    titlebar.prepend(buttongrp);\n",
       "}\n",
       "\n",
       "mpl.figure.prototype._root_extra_style = function(el){\n",
       "    var fig = this\n",
       "    el.on(\"remove\", function(){\n",
       "\tfig.close_ws(fig, {});\n",
       "    });\n",
       "}\n",
       "\n",
       "mpl.figure.prototype._canvas_extra_style = function(el){\n",
       "    // this is important to make the div 'focusable\n",
       "    el.attr('tabindex', 0)\n",
       "    // reach out to IPython and tell the keyboard manager to turn it's self\n",
       "    // off when our div gets focus\n",
       "\n",
       "    // location in version 3\n",
       "    if (IPython.notebook.keyboard_manager) {\n",
       "        IPython.notebook.keyboard_manager.register_events(el);\n",
       "    }\n",
       "    else {\n",
       "        // location in version 2\n",
       "        IPython.keyboard_manager.register_events(el);\n",
       "    }\n",
       "\n",
       "}\n",
       "\n",
       "mpl.figure.prototype._key_event_extra = function(event, name) {\n",
       "    var manager = IPython.notebook.keyboard_manager;\n",
       "    if (!manager)\n",
       "        manager = IPython.keyboard_manager;\n",
       "\n",
       "    // Check for shift+enter\n",
       "    if (event.shiftKey && event.which == 13) {\n",
       "        this.canvas_div.blur();\n",
       "        event.shiftKey = false;\n",
       "        // Send a \"J\" for go to next cell\n",
       "        event.which = 74;\n",
       "        event.keyCode = 74;\n",
       "        manager.command_mode();\n",
       "        manager.handle_keydown(event);\n",
       "    }\n",
       "}\n",
       "\n",
       "mpl.figure.prototype.handle_save = function(fig, msg) {\n",
       "    fig.ondownload(fig, null);\n",
       "}\n",
       "\n",
       "\n",
       "mpl.find_output_cell = function(html_output) {\n",
       "    // Return the cell and output element which can be found *uniquely* in the notebook.\n",
       "    // Note - this is a bit hacky, but it is done because the \"notebook_saving.Notebook\"\n",
       "    // IPython event is triggered only after the cells have been serialised, which for\n",
       "    // our purposes (turning an active figure into a static one), is too late.\n",
       "    var cells = IPython.notebook.get_cells();\n",
       "    var ncells = cells.length;\n",
       "    for (var i=0; i<ncells; i++) {\n",
       "        var cell = cells[i];\n",
       "        if (cell.cell_type === 'code'){\n",
       "            for (var j=0; j<cell.output_area.outputs.length; j++) {\n",
       "                var data = cell.output_area.outputs[j];\n",
       "                if (data.data) {\n",
       "                    // IPython >= 3 moved mimebundle to data attribute of output\n",
       "                    data = data.data;\n",
       "                }\n",
       "                if (data['text/html'] == html_output) {\n",
       "                    return [cell, data, j];\n",
       "                }\n",
       "            }\n",
       "        }\n",
       "    }\n",
       "}\n",
       "\n",
       "// Register the function which deals with the matplotlib target/channel.\n",
       "// The kernel may be null if the page has been refreshed.\n",
       "if (IPython.notebook.kernel != null) {\n",
       "    IPython.notebook.kernel.comm_manager.register_target('matplotlib', mpl.mpl_figure_comm);\n",
       "}\n"
      ],
      "text/plain": [
       "<IPython.core.display.Javascript object>"
      ]
     },
     "metadata": {},
     "output_type": "display_data"
    },
    {
     "data": {
      "text/html": [
       "<img src=\"data:image/png;base64,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\" width=\"432\">"
      ],
      "text/plain": [
       "<IPython.core.display.HTML object>"
      ]
     },
     "metadata": {},
     "output_type": "display_data"
    },
    {
     "data": {
      "text/plain": [
       "[<mpl_toolkits.mplot3d.art3d.Line3D at 0x15c1cfe9b00>]"
      ]
     },
     "execution_count": 34,
     "metadata": {},
     "output_type": "execute_result"
    }
   ],
   "source": [
    "%matplotlib notebook\n",
    "fig = plt.figure()\n",
    "ax = Axes3D(fig)\n",
    "ax.plot(x,y,z)"
   ]
  },
  {
   "cell_type": "code",
   "execution_count": 35,
   "metadata": {},
   "outputs": [],
   "source": [
    "#8-70 インタラクティブ"
   ]
  },
  {
   "cell_type": "code",
   "execution_count": 36,
   "metadata": {},
   "outputs": [
    {
     "name": "stderr",
     "output_type": "stream",
     "text": [
      "C:\\Users\\torug\\Anaconda3\\lib\\site-packages\\IPython\\html.py:14: ShimWarning: The `IPython.html` package has been deprecated since IPython 4.0. You should import from `notebook` instead. `IPython.html.widgets` has moved to `ipywidgets`.\n",
      "  \"`IPython.html.widgets` has moved to `ipywidgets`.\", ShimWarning)\n"
     ]
    }
   ],
   "source": [
    "import numpy as np\n",
    "import pandas as pd\n",
    "import matplotlib.pyplot as plt\n",
    "from IPython.html.widgets import interact\n",
    "%matplotlib inline"
   ]
  },
  {
   "cell_type": "code",
   "execution_count": 37,
   "metadata": {},
   "outputs": [],
   "source": [
    "df_x = pd.read_csv(\"./brownian-x.csv\", delimiter=\",\", index_col=0)\n",
    "df_y = pd.read_csv(\"./brownian-y.csv\", delimiter=\",\", index_col=0)"
   ]
  },
  {
   "cell_type": "code",
   "execution_count": 38,
   "metadata": {},
   "outputs": [
    {
     "data": {
      "text/html": [
       "<div>\n",
       "<style scoped>\n",
       "    .dataframe tbody tr th:only-of-type {\n",
       "        vertical-align: middle;\n",
       "    }\n",
       "\n",
       "    .dataframe tbody tr th {\n",
       "        vertical-align: top;\n",
       "    }\n",
       "\n",
       "    .dataframe thead th {\n",
       "        text-align: right;\n",
       "    }\n",
       "</style>\n",
       "<table border=\"1\" class=\"dataframe\">\n",
       "  <thead>\n",
       "    <tr style=\"text-align: right;\">\n",
       "      <th></th>\n",
       "      <th>0</th>\n",
       "      <th>1</th>\n",
       "      <th>2</th>\n",
       "      <th>3</th>\n",
       "      <th>4</th>\n",
       "      <th>5</th>\n",
       "      <th>6</th>\n",
       "      <th>7</th>\n",
       "      <th>8</th>\n",
       "      <th>9</th>\n",
       "      <th>...</th>\n",
       "      <th>90</th>\n",
       "      <th>91</th>\n",
       "      <th>92</th>\n",
       "      <th>93</th>\n",
       "      <th>94</th>\n",
       "      <th>95</th>\n",
       "      <th>96</th>\n",
       "      <th>97</th>\n",
       "      <th>98</th>\n",
       "      <th>99</th>\n",
       "    </tr>\n",
       "  </thead>\n",
       "  <tbody>\n",
       "    <tr>\n",
       "      <th>0</th>\n",
       "      <td>0.000000</td>\n",
       "      <td>0.000000</td>\n",
       "      <td>0.000000</td>\n",
       "      <td>0.000000</td>\n",
       "      <td>0.000000</td>\n",
       "      <td>0.000000</td>\n",
       "      <td>0.000000</td>\n",
       "      <td>0.000000</td>\n",
       "      <td>0.000000</td>\n",
       "      <td>0.000000</td>\n",
       "      <td>...</td>\n",
       "      <td>0.000000</td>\n",
       "      <td>0.000000</td>\n",
       "      <td>0.000000</td>\n",
       "      <td>0.000000</td>\n",
       "      <td>0.000000</td>\n",
       "      <td>0.000000</td>\n",
       "      <td>0.000000</td>\n",
       "      <td>0.000000</td>\n",
       "      <td>0.000000</td>\n",
       "      <td>0.000000</td>\n",
       "    </tr>\n",
       "    <tr>\n",
       "      <th>1</th>\n",
       "      <td>2.660897</td>\n",
       "      <td>0.308681</td>\n",
       "      <td>1.150186</td>\n",
       "      <td>0.080541</td>\n",
       "      <td>-0.012792</td>\n",
       "      <td>0.691837</td>\n",
       "      <td>0.070849</td>\n",
       "      <td>0.145932</td>\n",
       "      <td>-0.388698</td>\n",
       "      <td>0.650669</td>\n",
       "      <td>...</td>\n",
       "      <td>-0.227122</td>\n",
       "      <td>-0.898830</td>\n",
       "      <td>1.408201</td>\n",
       "      <td>-0.784713</td>\n",
       "      <td>0.855479</td>\n",
       "      <td>0.858106</td>\n",
       "      <td>-0.071653</td>\n",
       "      <td>-1.243743</td>\n",
       "      <td>0.518966</td>\n",
       "      <td>-1.193671</td>\n",
       "    </tr>\n",
       "    <tr>\n",
       "      <th>2</th>\n",
       "      <td>3.598515</td>\n",
       "      <td>0.108084</td>\n",
       "      <td>1.751230</td>\n",
       "      <td>-0.317608</td>\n",
       "      <td>-0.219819</td>\n",
       "      <td>1.516001</td>\n",
       "      <td>-0.956749</td>\n",
       "      <td>-0.325082</td>\n",
       "      <td>0.261582</td>\n",
       "      <td>-0.706170</td>\n",
       "      <td>...</td>\n",
       "      <td>-2.010389</td>\n",
       "      <td>1.388606</td>\n",
       "      <td>0.752354</td>\n",
       "      <td>-0.833061</td>\n",
       "      <td>2.135601</td>\n",
       "      <td>-0.372791</td>\n",
       "      <td>-0.086453</td>\n",
       "      <td>0.750444</td>\n",
       "      <td>1.616107</td>\n",
       "      <td>-1.558488</td>\n",
       "    </tr>\n",
       "    <tr>\n",
       "      <th>3</th>\n",
       "      <td>2.985630</td>\n",
       "      <td>-0.819268</td>\n",
       "      <td>0.730809</td>\n",
       "      <td>-2.676886</td>\n",
       "      <td>1.619011</td>\n",
       "      <td>-0.486863</td>\n",
       "      <td>-1.926352</td>\n",
       "      <td>0.229255</td>\n",
       "      <td>-0.156492</td>\n",
       "      <td>-0.030275</td>\n",
       "      <td>...</td>\n",
       "      <td>-2.112969</td>\n",
       "      <td>1.925312</td>\n",
       "      <td>-1.023566</td>\n",
       "      <td>0.906403</td>\n",
       "      <td>1.582525</td>\n",
       "      <td>-0.128784</td>\n",
       "      <td>0.065607</td>\n",
       "      <td>1.319800</td>\n",
       "      <td>2.979209</td>\n",
       "      <td>-0.167360</td>\n",
       "    </tr>\n",
       "    <tr>\n",
       "      <th>4</th>\n",
       "      <td>3.768073</td>\n",
       "      <td>-0.303198</td>\n",
       "      <td>0.678676</td>\n",
       "      <td>-3.187084</td>\n",
       "      <td>2.514568</td>\n",
       "      <td>-0.358183</td>\n",
       "      <td>-0.389710</td>\n",
       "      <td>0.800627</td>\n",
       "      <td>-2.380285</td>\n",
       "      <td>1.512981</td>\n",
       "      <td>...</td>\n",
       "      <td>-1.559767</td>\n",
       "      <td>2.913672</td>\n",
       "      <td>-1.371663</td>\n",
       "      <td>1.885403</td>\n",
       "      <td>0.066579</td>\n",
       "      <td>-0.859434</td>\n",
       "      <td>-1.679999</td>\n",
       "      <td>0.500541</td>\n",
       "      <td>3.771645</td>\n",
       "      <td>-1.126620</td>\n",
       "    </tr>\n",
       "  </tbody>\n",
       "</table>\n",
       "<p>5 rows × 100 columns</p>\n",
       "</div>"
      ],
      "text/plain": [
       "          0         1         2         3         4         5         6  \\\n",
       "0  0.000000  0.000000  0.000000  0.000000  0.000000  0.000000  0.000000   \n",
       "1  2.660897  0.308681  1.150186  0.080541 -0.012792  0.691837  0.070849   \n",
       "2  3.598515  0.108084  1.751230 -0.317608 -0.219819  1.516001 -0.956749   \n",
       "3  2.985630 -0.819268  0.730809 -2.676886  1.619011 -0.486863 -1.926352   \n",
       "4  3.768073 -0.303198  0.678676 -3.187084  2.514568 -0.358183 -0.389710   \n",
       "\n",
       "          7         8         9  ...        90        91        92        93  \\\n",
       "0  0.000000  0.000000  0.000000  ...  0.000000  0.000000  0.000000  0.000000   \n",
       "1  0.145932 -0.388698  0.650669  ... -0.227122 -0.898830  1.408201 -0.784713   \n",
       "2 -0.325082  0.261582 -0.706170  ... -2.010389  1.388606  0.752354 -0.833061   \n",
       "3  0.229255 -0.156492 -0.030275  ... -2.112969  1.925312 -1.023566  0.906403   \n",
       "4  0.800627 -2.380285  1.512981  ... -1.559767  2.913672 -1.371663  1.885403   \n",
       "\n",
       "         94        95        96        97        98        99  \n",
       "0  0.000000  0.000000  0.000000  0.000000  0.000000  0.000000  \n",
       "1  0.855479  0.858106 -0.071653 -1.243743  0.518966 -1.193671  \n",
       "2  2.135601 -0.372791 -0.086453  0.750444  1.616107 -1.558488  \n",
       "3  1.582525 -0.128784  0.065607  1.319800  2.979209 -0.167360  \n",
       "4  0.066579 -0.859434 -1.679999  0.500541  3.771645 -1.126620  \n",
       "\n",
       "[5 rows x 100 columns]"
      ]
     },
     "execution_count": 38,
     "metadata": {},
     "output_type": "execute_result"
    }
   ],
   "source": [
    "df_x.head()"
   ]
  },
  {
   "cell_type": "code",
   "execution_count": 39,
   "metadata": {},
   "outputs": [],
   "source": [
    "#デコレイターを使う必要がある"
   ]
  },
  {
   "cell_type": "code",
   "execution_count": 44,
   "metadata": {},
   "outputs": [
    {
     "data": {
      "application/vnd.jupyter.widget-view+json": {
       "model_id": "1da5677eb68d4210b6747dada9ec44a6",
       "version_major": 2,
       "version_minor": 0
      },
      "text/plain": [
       "interactive(children=(IntSlider(value=0, description='time', max=500, step=10), Output()), _dom_classes=('widg…"
      ]
     },
     "metadata": {},
     "output_type": "display_data"
    }
   ],
   "source": [
    "@interact(time=(0,500,10))\n",
    "def animation(time=0):\n",
    "    plt.xlim((-100,100))\n",
    "    plt.ylim((-100,100))\n",
    "    for i in range(df_x.shape[1]):\n",
    "          plt.scatter(df_x.ix[time,i],df_y.ix[time,i])\n",
    "    plt.show()"
   ]
  },
  {
   "cell_type": "code",
   "execution_count": 53,
   "metadata": {},
   "outputs": [],
   "source": [
    "# 8-71 グラフの設定"
   ]
  },
  {
   "cell_type": "code",
   "execution_count": null,
   "metadata": {},
   "outputs": [],
   "source": []
  },
  {
   "cell_type": "code",
   "execution_count": null,
   "metadata": {},
   "outputs": [],
   "source": []
  },
  {
   "cell_type": "code",
   "execution_count": null,
   "metadata": {},
   "outputs": [],
   "source": []
  },
  {
   "cell_type": "code",
   "execution_count": null,
   "metadata": {},
   "outputs": [],
   "source": []
  },
  {
   "cell_type": "code",
   "execution_count": 45,
   "metadata": {},
   "outputs": [],
   "source": [
    "# 8-72 グラフの保存"
   ]
  },
  {
   "cell_type": "code",
   "execution_count": 46,
   "metadata": {},
   "outputs": [],
   "source": [
    "import numpy as np\n",
    "import matplotlib.pyplot as plt\n",
    "%matplotlib inline"
   ]
  },
  {
   "cell_type": "code",
   "execution_count": 47,
   "metadata": {},
   "outputs": [],
   "source": [
    "x = np.arange(0,10,0.01)\n",
    "y = np.sin(x)"
   ]
  },
  {
   "cell_type": "code",
   "execution_count": 48,
   "metadata": {},
   "outputs": [
    {
     "data": {
      "text/plain": [
       "[<matplotlib.lines.Line2D at 0x15c1d46fe48>]"
      ]
     },
     "execution_count": 48,
     "metadata": {},
     "output_type": "execute_result"
    },
    {
     "data": {
      "image/png": "[encoded data removed]",
      "text/plain": [
       "<Figure size 432x288 with 1 Axes>"
      ]
     },
     "metadata": {
      "needs_background": "light"
     },
     "output_type": "display_data"
    }
   ],
   "source": [
    "plt.plot(x,y)"
   ]
  },
  {
   "cell_type": "code",
   "execution_count": 49,
   "metadata": {},
   "outputs": [
    {
     "data": {
      "image/png": "[encoded data removed]",
      "text/plain": [
       "<Figure size 432x288 with 1 Axes>"
      ]
     },
     "metadata": {
      "needs_background": "light"
     },
     "output_type": "display_data"
    }
   ],
   "source": [
    "plt.plot(x,y)\n",
    "plt.savefig(\"./test.png\", dpi=300)#dpi（解像度）300少し大きめ"
   ]
  },
  {
   "cell_type": "code",
   "execution_count": 51,
   "metadata": {},
   "outputs": [
    {
     "data": {
      "text/plain": [
       "<Figure size 432x288 with 0 Axes>"
      ]
     },
     "metadata": {},
     "output_type": "display_data"
    }
   ],
   "source": [
    "plt.savefig(\"./test.eps\", dpi=300)#eps、アドビの製品？"
   ]
  },
  {
   "cell_type": "code",
   "execution_count": 52,
   "metadata": {},
   "outputs": [
    {
     "data": {
      "image/png": "[encoded data removed]",
      "text/plain": [
       "<Figure size 432x288 with 1 Axes>"
      ]
     },
     "metadata": {
      "needs_background": "light"
     },
     "output_type": "display_data"
    }
   ],
   "source": [
    "plt.plot(x,y)\n",
    "plt.tight_layout()#はみ出ないようにレイアウト調整\n",
    "plt.savefig(\"./test.png\", dpi=300)"
   ]
  },
  {
   "cell_type": "code",
   "execution_count": null,
   "metadata": {},
   "outputs": [],
   "source": []
  }
 ],
 "metadata": {
  "kernelspec": {
   "display_name": "Python 3",
   "language": "python",
   "name": "python3"
  },
  "language_info": {
   "codemirror_mode": {
    "name": "ipython",
    "version": 3
   },
   "file_extension": ".py",
   "mimetype": "text/x-python",
   "name": "python",
   "nbconvert_exporter": "python",
   "pygments_lexer": "ipython3",
   "version": "3.7.3"
  }
 },
 "nbformat": 4,
 "nbformat_minor": 2
}
